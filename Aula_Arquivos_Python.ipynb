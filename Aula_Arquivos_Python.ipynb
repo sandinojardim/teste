{
 "cells": [
  {
   "cell_type": "markdown",
   "id": "be27be12",
   "metadata": {},
   "source": [
    "\n",
    "# Aula: Manipulação de Arquivos em Python\n",
    "\n",
    "### Objetivos da Aula:\n",
    "- Ensinar como abrir, ler, escrever e manipular arquivos em Python.\n",
    "- Explicar a diferença entre modos de abertura de arquivos (leitura, escrita, adição).\n",
    "- Mostrar como tratar erros comuns durante a manipulação de arquivos.\n",
    "- Demonstrar a utilização de `with` para o gerenciamento de arquivos.\n",
    "\n",
    "---\n",
    "### 1. Introdução à Manipulação de Arquivos\n",
    "\n",
    "Explicação sobre o conceito de arquivos (texto e binário) e como os dados são armazenados e lidos de um arquivo. \n",
    "Importância da manipulação de arquivos em diversas aplicações como relatórios, logs, e persistência de dados.\n",
    "    "
   ]
  },
  {
   "cell_type": "code",
   "execution_count": null,
   "id": "59206952",
   "metadata": {},
   "outputs": [],
   "source": [
    "\n",
    "# Exemplo básico de abertura de arquivo\n",
    "arquivo = open('exemplo.txt', 'r')\n",
    "conteudo = arquivo.read()\n",
    "print(conteudo)\n",
    "arquivo.close()\n"
   ]
  },
  {
   "cell_type": "markdown",
   "id": "4fc8e0f8",
   "metadata": {},
   "source": [
    "\n",
    "### 2. Abertura e Fechamento de Arquivos\n",
    "\n",
    "Uso das funções `open()` e `close()`. Modos de abertura:\n",
    "- `r` - leitura\n",
    "- `w` - escrita (sobrescreve o conteúdo)\n",
    "- `a` - adição (mantém o conteúdo existente)\n",
    "- `rb`/`wb` - leitura/escrita de arquivos binários.\n",
    "    "
   ]
  },
  {
   "cell_type": "code",
   "execution_count": null,
   "id": "915b5a30",
   "metadata": {},
   "outputs": [],
   "source": [
    "\n",
    "# Abrindo o arquivo para escrita\n",
    "arquivo = open('novo_arquivo.txt', 'w')\n",
    "arquivo.write('Olá, mundo!')\n",
    "arquivo.close()\n"
   ]
  },
  {
   "cell_type": "markdown",
   "id": "a3a14a30",
   "metadata": {},
   "source": [
    "\n",
    "### 3. Leitura de Arquivos\n",
    "\n",
    "Como ler arquivos utilizando `read()`, `readline()`, e `readlines()`.\n",
    "    "
   ]
  },
  {
   "cell_type": "code",
   "execution_count": null,
   "id": "8e795396",
   "metadata": {},
   "outputs": [],
   "source": [
    "\n",
    "# Lendo um arquivo linha por linha\n",
    "with open('exemplo.txt', 'r') as arquivo:\n",
    "    for linha in arquivo:\n",
    "        print(linha.strip())\n"
   ]
  },
  {
   "cell_type": "markdown",
   "id": "242b10c0",
   "metadata": {},
   "source": [
    "\n",
    "### 4. Escrita em Arquivos\n",
    "\n",
    "Usando `write()` e `writelines()` para gravar dados.\n",
    "Modos `w` e `a` e suas consequências.\n",
    "    "
   ]
  },
  {
   "cell_type": "code",
   "execution_count": null,
   "id": "4113aafe",
   "metadata": {},
   "outputs": [],
   "source": [
    "\n",
    "# Adicionando dados a um arquivo existente\n",
    "with open('exemplo.txt', 'a') as arquivo:\n",
    "    arquivo.write('\\nNova linha adicionada.')\n"
   ]
  },
  {
   "cell_type": "markdown",
   "id": "f971fc53",
   "metadata": {},
   "source": [
    "\n",
    "### 5. Tratamento de Erros na Manipulação de Arquivos\n",
    "\n",
    "Tratamento de erros como `FileNotFoundError`, `IOError`.\n",
    "    "
   ]
  },
  {
   "cell_type": "code",
   "execution_count": null,
   "id": "39ea197e",
   "metadata": {},
   "outputs": [],
   "source": [
    "\n",
    "try:\n",
    "    with open('arquivo_inexistente.txt', 'r') as arquivo:\n",
    "        conteudo = arquivo.read()\n",
    "except FileNotFoundError:\n",
    "    print('Arquivo não encontrado.')\n"
   ]
  },
  {
   "cell_type": "markdown",
   "id": "aa1b584e",
   "metadata": {},
   "source": [
    "\n",
    "### 6. Gerenciamento de Arquivos com `with`\n",
    "\n",
    "Uso do gerenciador de contexto `with`, garantindo que o arquivo seja fechado automaticamente.\n",
    "    "
   ]
  },
  {
   "cell_type": "code",
   "execution_count": null,
   "id": "58a0abcf",
   "metadata": {},
   "outputs": [],
   "source": [
    "\n",
    "with open('exemplo.txt', 'r') as arquivo:\n",
    "    conteudo = arquivo.read()\n",
    "    print(conteudo)\n"
   ]
  },
  {
   "cell_type": "markdown",
   "id": "3699edc6",
   "metadata": {},
   "source": [
    "\n",
    "### 7. Exercício Final\n",
    "\n",
    "Escreva um programa que leia um arquivo CSV com nomes e notas, e escreva num novo arquivo os alunos aprovados (nota >= 7).\n",
    "    "
   ]
  },
  {
   "cell_type": "code",
   "execution_count": null,
   "id": "1a2e6853",
   "metadata": {},
   "outputs": [],
   "source": [
    "\n",
    "# Exemplo de solução\n",
    "with open('alunos.csv', 'r') as arquivo:\n",
    "    linhas = arquivo.readlines()\n",
    "\n",
    "with open('aprovados.txt', 'w') as arquivo:\n",
    "    for linha in linhas:\n",
    "        nome, nota = linha.split(',')\n",
    "        if float(nota) >= 7:\n",
    "            arquivo.write(f'{nome}\\n')\n"
   ]
  }
 ],
 "metadata": {},
 "nbformat": 4,
 "nbformat_minor": 5
}
