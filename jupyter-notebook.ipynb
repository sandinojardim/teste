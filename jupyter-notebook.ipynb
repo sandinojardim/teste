{
    "cells": [
        {
            "metadata": {},
            "cell_type": "code",
            "source": "\nimport os, types\nimport pandas as pd\nfrom botocore.client import Config\nimport ibm_boto3\n\ndef __iter__(self): return 0\n\n# @hidden_cell\n# The following code accesses a file in your IBM Cloud Object Storage. It includes your credentials.\n# You might want to remove those credentials before you share the notebook.\n\nif os.environ.get('RUNTIME_ENV_LOCATION_TYPE') == 'external':\n    endpoint_c5cb61fad78e4ab48122a8370a412196 = 'https://s3.us.cloud-object-storage.appdomain.cloud'\nelse:\n    endpoint_c5cb61fad78e4ab48122a8370a412196 = 'https://s3.private.us.cloud-object-storage.appdomain.cloud'\n\nclient_c5cb61fad78e4ab48122a8370a412196 = ibm_boto3.client(service_name='s3',\n    ibm_api_key_id='6DW0I1bkhy1TVa_3FG9F8L_qvPSW_I-DCmIfI49-XE0G',\n    ibm_auth_endpoint=\"https://iam.cloud.ibm.com/oidc/token\",\n    config=Config(signature_version='oauth'),\n    endpoint_url=endpoint_c5cb61fad78e4ab48122a8370a412196)\n\nbody = client_c5cb61fad78e4ab48122a8370a412196.get_object(Bucket='courseraibm-donotdelete-pr-vu5tbavc37nuuo',Key='Notas_Atividade2-Modulo2.xlsx')['Body']\n\ndf_data_0 = pd.read_excel(body.read())\ndf_data_0.head()\n",
            "execution_count": 1,
            "outputs": [
                {
                    "output_type": "execute_result",
                    "execution_count": 1,
                    "data": {
                        "text/plain": "                Unnamed: 0 Exercicio 1  Unnamed: 2  Unnamed: 3  Unnamed: 4  \\\n0               ATIVIDADES  criterio 1  criterio 2  criterio 3  criterio 4   \n1   ABNER DA SILVA TAVARES          10          10          10           5   \n2        ARTUR ROZA CAMPOS          10          10          10          10   \n3      BENJAMIM F D S NETO          10          10          10          10   \n4  BRUNO AZEVEDO DIAS PAES          10          10          10          10   \n\n  Exercicio 2  Unnamed: 6  Unnamed: 7  Unnamed: 8  Unnamed: 9 Unnamed: 10  \\\n0  criterio 1  criterio 2  criterio 3  criterio 4  criterio 5  criterio 6   \n1          10          10          10          10          10           5   \n2          10          10          10          10          10          10   \n3           X           X           X           X           X           X   \n4          10          10          10          10          10          10   \n\n   Unnamed: 11 Unnamed: 12  Unnamed: 13 Unnamed: 14               Unnamed: 15  \\\n0  PORCENTAGEM        NOTA          NaN         NaN                       0.1   \n1           90        0.45          NaN         NaN                       0.5   \n2          100         0.5          NaN         NaN                         0   \n3           40         0.2          NaN         NaN                       NaN   \n4          100         0.5          NaN  criterio 1  Classe Pai VeiculoAVenda   \n\n   Unnamed: 16  \n0          NaN  \n1          NaN  \n2          NaN  \n3          NaN  \n4          NaN  ",
                        "text/html": "<div>\n<style scoped>\n    .dataframe tbody tr th:only-of-type {\n        vertical-align: middle;\n    }\n\n    .dataframe tbody tr th {\n        vertical-align: top;\n    }\n\n    .dataframe thead th {\n        text-align: right;\n    }\n</style>\n<table border=\"1\" class=\"dataframe\">\n  <thead>\n    <tr style=\"text-align: right;\">\n      <th></th>\n      <th>Unnamed: 0</th>\n      <th>Exercicio 1</th>\n      <th>Unnamed: 2</th>\n      <th>Unnamed: 3</th>\n      <th>Unnamed: 4</th>\n      <th>Exercicio 2</th>\n      <th>Unnamed: 6</th>\n      <th>Unnamed: 7</th>\n      <th>Unnamed: 8</th>\n      <th>Unnamed: 9</th>\n      <th>Unnamed: 10</th>\n      <th>Unnamed: 11</th>\n      <th>Unnamed: 12</th>\n      <th>Unnamed: 13</th>\n      <th>Unnamed: 14</th>\n      <th>Unnamed: 15</th>\n      <th>Unnamed: 16</th>\n    </tr>\n  </thead>\n  <tbody>\n    <tr>\n      <th>0</th>\n      <td>ATIVIDADES</td>\n      <td>criterio 1</td>\n      <td>criterio 2</td>\n      <td>criterio 3</td>\n      <td>criterio 4</td>\n      <td>criterio 1</td>\n      <td>criterio 2</td>\n      <td>criterio 3</td>\n      <td>criterio 4</td>\n      <td>criterio 5</td>\n      <td>criterio 6</td>\n      <td>PORCENTAGEM</td>\n      <td>NOTA</td>\n      <td>NaN</td>\n      <td>NaN</td>\n      <td>0.1</td>\n      <td>NaN</td>\n    </tr>\n    <tr>\n      <th>1</th>\n      <td>ABNER DA SILVA TAVARES</td>\n      <td>10</td>\n      <td>10</td>\n      <td>10</td>\n      <td>5</td>\n      <td>10</td>\n      <td>10</td>\n      <td>10</td>\n      <td>10</td>\n      <td>10</td>\n      <td>5</td>\n      <td>90</td>\n      <td>0.45</td>\n      <td>NaN</td>\n      <td>NaN</td>\n      <td>0.5</td>\n      <td>NaN</td>\n    </tr>\n    <tr>\n      <th>2</th>\n      <td>ARTUR ROZA CAMPOS</td>\n      <td>10</td>\n      <td>10</td>\n      <td>10</td>\n      <td>10</td>\n      <td>10</td>\n      <td>10</td>\n      <td>10</td>\n      <td>10</td>\n      <td>10</td>\n      <td>10</td>\n      <td>100</td>\n      <td>0.5</td>\n      <td>NaN</td>\n      <td>NaN</td>\n      <td>0</td>\n      <td>NaN</td>\n    </tr>\n    <tr>\n      <th>3</th>\n      <td>BENJAMIM F D S NETO</td>\n      <td>10</td>\n      <td>10</td>\n      <td>10</td>\n      <td>10</td>\n      <td>X</td>\n      <td>X</td>\n      <td>X</td>\n      <td>X</td>\n      <td>X</td>\n      <td>X</td>\n      <td>40</td>\n      <td>0.2</td>\n      <td>NaN</td>\n      <td>NaN</td>\n      <td>NaN</td>\n      <td>NaN</td>\n    </tr>\n    <tr>\n      <th>4</th>\n      <td>BRUNO AZEVEDO DIAS PAES</td>\n      <td>10</td>\n      <td>10</td>\n      <td>10</td>\n      <td>10</td>\n      <td>10</td>\n      <td>10</td>\n      <td>10</td>\n      <td>10</td>\n      <td>10</td>\n      <td>10</td>\n      <td>100</td>\n      <td>0.5</td>\n      <td>NaN</td>\n      <td>criterio 1</td>\n      <td>Classe Pai VeiculoAVenda</td>\n      <td>NaN</td>\n    </tr>\n  </tbody>\n</table>\n</div>"
                    },
                    "metadata": {}
                }
            ]
        },
        {
            "metadata": {},
            "cell_type": "code",
            "source": "",
            "execution_count": null,
            "outputs": []
        }
    ],
    "metadata": {
        "kernelspec": {
            "name": "python3",
            "display_name": "Python 3.8",
            "language": "python"
        },
        "language_info": {
            "name": "python",
            "version": "3.8.11",
            "mimetype": "text/x-python",
            "codemirror_mode": {
                "name": "ipython",
                "version": 3
            },
            "pygments_lexer": "ipython3",
            "nbconvert_exporter": "python",
            "file_extension": ".py"
        }
    },
    "nbformat": 4,
    "nbformat_minor": 1
}